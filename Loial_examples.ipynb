{
  "nbformat": 4,
  "nbformat_minor": 0,
  "metadata": {
    "colab": {
      "provenance": [],
      "authorship_tag": "ABX9TyMllrwGvZME+C7gCGhqP5UI",
      "include_colab_link": true
    },
    "kernelspec": {
      "name": "python3",
      "display_name": "Python 3"
    },
    "language_info": {
      "name": "python"
    }
  },
  "cells": [
    {
      "cell_type": "markdown",
      "metadata": {
        "id": "view-in-github",
        "colab_type": "text"
      },
      "source": [
        "<a href=\"https://colab.research.google.com/github/neiltheblue/loial/blob/main/Loial_examples.ipynb\" target=\"_parent\"><img src=\"https://colab.research.google.com/assets/colab-badge.svg\" alt=\"Open In Colab\"/></a>"
      ]
    },
    {
      "cell_type": "markdown",
      "source": [
        "The Loial pacakge needs to be available, as package or from the git repo."
      ],
      "metadata": {
        "id": "M4oq3ZbWaPpo"
      }
    },
    {
      "cell_type": "code",
      "execution_count": 1,
      "metadata": {
        "id": "lWvnarcGwArM",
        "outputId": "28927737-cd4f-40aa-d489-dd8127c8dc7d",
        "colab": {
          "base_uri": "https://localhost:8080/"
        }
      },
      "outputs": [
        {
          "output_type": "stream",
          "name": "stdout",
          "text": [
            "Looking in indexes: https://test.pypi.org/simple/\n",
            "Requirement already satisfied: loial in /usr/local/lib/python3.12/dist-packages (0.0.1)\n"
          ]
        }
      ],
      "source": [
        "!pip install -i https://test.pypi.org/simple/ loial"
      ]
    },
    {
      "cell_type": "markdown",
      "source": [
        "# Simple Python builder example\n",
        "\n",
        "The current Loial project supports two buildedrs. One is the python builder that is used mainly to exercise the framework, and the CC compiler that is used to integrate compiles libraries. So far this has only been tested using Linux."
      ],
      "metadata": {
        "id": "x2wMZbGfa7cM"
      }
    },
    {
      "cell_type": "markdown",
      "source": [
        "This first exmaple shows how a python method can be replaced by an alternative implemention."
      ],
      "metadata": {
        "id": "tCBloYaobhi_"
      }
    },
    {
      "cell_type": "code",
      "source": [
        "def grow(x):\n",
        "  return x + x\n",
        "\n",
        "assert grow(3) == 6"
      ],
      "metadata": {
        "id": "3if53wOBbolq"
      },
      "execution_count": 2,
      "outputs": []
    },
    {
      "cell_type": "markdown",
      "source": [
        "The alternative implementation. Here the content of the build decorator is used instead of the python method body."
      ],
      "metadata": {
        "id": "mEtXzdzIcCTH"
      }
    },
    {
      "cell_type": "code",
      "source": [
        "from loial import build\n",
        "\n",
        "@build('return x ** 2')\n",
        "def grow(x):\n",
        "  return x + x\n",
        "\n",
        "assert grow(3) == 9"
      ],
      "metadata": {
        "id": "CRHhugebcHYo"
      },
      "execution_count": 3,
      "outputs": []
    },
    {
      "cell_type": "markdown",
      "source": [
        "This alternative behaviour can be turned off."
      ],
      "metadata": {
        "id": "8X3zlqAjfMux"
      }
    },
    {
      "cell_type": "code",
      "source": [
        "from loial import build\n",
        "\n",
        "@build('return x ** 2', replace=False)\n",
        "def grow(x):\n",
        "  return x + x\n",
        "\n",
        "assert grow(3) == 6"
      ],
      "metadata": {
        "id": "zwkYDKWOfRx0"
      },
      "execution_count": 4,
      "outputs": []
    },
    {
      "cell_type": "markdown",
      "source": [
        "If the alternative code does not compile, then the original body will not be replaced,"
      ],
      "metadata": {
        "id": "6At7XXmPffP1"
      }
    },
    {
      "cell_type": "code",
      "source": [
        "from loial import build\n",
        "\n",
        "@build('return x to the power of 2')\n",
        "def grow(x):\n",
        "  return x + x\n",
        "\n",
        "assert grow(3) == 6\n",
        "print(f'Output: {grow(3)}')"
      ],
      "metadata": {
        "id": "k02fanH2feYm",
        "outputId": "2c85cf87-9521-482c-fec2-c55c6e284de5",
        "colab": {
          "base_uri": "https://localhost:8080/"
        }
      },
      "execution_count": 9,
      "outputs": [
        {
          "output_type": "stream",
          "name": "stderr",
          "text": [
            "ERROR:loial.builders.python_builder:Error compiling code, using defaut: invalid syntax (<string>, line 1)\n"
          ]
        },
        {
          "output_type": "stream",
          "name": "stdout",
          "text": [
            "Output: 6\n"
          ]
        }
      ]
    }
  ]
}