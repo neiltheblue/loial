{
  "nbformat": 4,
  "nbformat_minor": 0,
  "metadata": {
    "colab": {
      "provenance": [],
      "toc_visible": true,
      "authorship_tag": "ABX9TyPE9Df+qQAVtjHgAtzPwVw6",
      "include_colab_link": true
    },
    "kernelspec": {
      "name": "python3",
      "display_name": "Python 3"
    },
    "language_info": {
      "name": "python"
    }
  },
  "cells": [
    {
      "cell_type": "markdown",
      "metadata": {
        "id": "view-in-github",
        "colab_type": "text"
      },
      "source": [
        "<a href=\"https://colab.research.google.com/github/neiltheblue/loial/blob/main/Loial_examples.ipynb\" target=\"_parent\"><img src=\"https://colab.research.google.com/assets/colab-badge.svg\" alt=\"Open In Colab\"/></a>"
      ]
    },
    {
      "cell_type": "markdown",
      "source": [
        "The Loial pacakge needs to be available, as package or from the git repo."
      ],
      "metadata": {
        "id": "M4oq3ZbWaPpo"
      }
    },
    {
      "cell_type": "code",
      "execution_count": 2,
      "metadata": {
        "id": "lWvnarcGwArM",
        "outputId": "1a2d676f-7f09-40d8-b3b7-b15fbc60ca00",
        "colab": {
          "base_uri": "https://localhost:8080/"
        }
      },
      "outputs": [
        {
          "output_type": "stream",
          "name": "stdout",
          "text": [
            "Looking in indexes: https://test.pypi.org/simple/\n",
            "Collecting loial\n",
            "  Downloading https://test-files.pythonhosted.org/packages/72/1d/97a3f8003d8a5675c6f49840844d77e44fbb6a0048064a6fd505432d162b/loial-0.0.1-py3-none-any.whl.metadata (663 bytes)\n",
            "Downloading https://test-files.pythonhosted.org/packages/72/1d/97a3f8003d8a5675c6f49840844d77e44fbb6a0048064a6fd505432d162b/loial-0.0.1-py3-none-any.whl (8.9 kB)\n",
            "Installing collected packages: loial\n",
            "Successfully installed loial-0.0.1\n"
          ]
        }
      ],
      "source": [
        "!pip install -i https://test.pypi.org/simple/ loial"
      ]
    },
    {
      "cell_type": "markdown",
      "source": [
        "# Simple Python builder example\n",
        "\n",
        "The current Loial project supports two buildedrs. One is the python builder that is used mainly to exercise the framework, and the CC compiler that is used to integrate compiles libraries. So far this has only been tested using Linux."
      ],
      "metadata": {
        "id": "x2wMZbGfa7cM"
      }
    },
    {
      "cell_type": "markdown",
      "source": [
        "This first exmaple shows how a python method can be replaced by an alternative implemention."
      ],
      "metadata": {
        "id": "tCBloYaobhi_"
      }
    },
    {
      "cell_type": "code",
      "source": [
        "def grow(x):\n",
        "  return x + x\n",
        "\n",
        "assert grow(3) == 6"
      ],
      "metadata": {
        "id": "3if53wOBbolq"
      },
      "execution_count": 3,
      "outputs": []
    },
    {
      "cell_type": "markdown",
      "source": [
        "The alternative implementation. Here the content of the build decorator is used instead of the python method body."
      ],
      "metadata": {
        "id": "mEtXzdzIcCTH"
      }
    },
    {
      "cell_type": "code",
      "source": [
        "from loial import build\n",
        "\n",
        "@build('return x ** 2')\n",
        "def grow(x):\n",
        "  return x + x\n",
        "\n",
        "assert grow(3) == 9"
      ],
      "metadata": {
        "id": "CRHhugebcHYo"
      },
      "execution_count": 4,
      "outputs": []
    },
    {
      "cell_type": "markdown",
      "source": [
        "This alternative behaviour can be turned off."
      ],
      "metadata": {
        "id": "8X3zlqAjfMux"
      }
    },
    {
      "cell_type": "code",
      "source": [
        "from loial import build\n",
        "\n",
        "@build('return x ** 2', replace=False)\n",
        "def grow(x):\n",
        "  return x + x\n",
        "\n",
        "assert grow(3) == 6"
      ],
      "metadata": {
        "id": "zwkYDKWOfRx0"
      },
      "execution_count": 5,
      "outputs": []
    },
    {
      "cell_type": "markdown",
      "source": [
        "If the alternative code does not compile, then the original body will not be replaced,"
      ],
      "metadata": {
        "id": "6At7XXmPffP1"
      }
    },
    {
      "cell_type": "code",
      "source": [
        "from loial import build\n",
        "\n",
        "@build('return x to the power of 2')\n",
        "def grow(x):\n",
        "  return x + x\n",
        "\n",
        "assert grow(3) == 6\n",
        "print(f'Output: {grow(3)}')"
      ],
      "metadata": {
        "id": "k02fanH2feYm",
        "outputId": "fa22fc82-a6f2-4c8c-ccaf-2eb68cafff35",
        "colab": {
          "base_uri": "https://localhost:8080/"
        }
      },
      "execution_count": 6,
      "outputs": [
        {
          "output_type": "stream",
          "name": "stderr",
          "text": [
            "ERROR:loial.builders.python_builder:Error compiling code, using defaut: invalid syntax (<string>, line 1)\n"
          ]
        },
        {
          "output_type": "stream",
          "name": "stdout",
          "text": [
            "Output: 6\n"
          ]
        }
      ]
    },
    {
      "cell_type": "markdown",
      "source": [
        "# C builder example\n",
        "\n",
        "These examples demonstrate how to compile C code to replace python functions.\n",
        "\n",
        "This first example shows how to call a simple that take no arguments and returns an `int` value.\n",
        "\n",
        "Note that this uses the `@cc_build` decorator, and unless decfined otherwise all values are assumed to be `int`.\n",
        "\n",
        "Unlike with the python builder, the C code must include a function, which by default has the same name as the python function that is being replaced."
      ],
      "metadata": {
        "id": "YaWVupWL_ACn"
      }
    },
    {
      "cell_type": "code",
      "source": [
        "from loial.builders.cc_builder import cc_build\n",
        "\n",
        "@cc_build('''\n",
        "int fun1() {\n",
        "    return 10;\n",
        "}\n",
        "''')\n",
        "def fun1():\n",
        "    return 1\n",
        "\n",
        "assert fun1() == 10"
      ],
      "metadata": {
        "id": "qQmUrqWu_XAR"
      },
      "execution_count": 8,
      "outputs": []
    },
    {
      "cell_type": "markdown",
      "source": [
        "This next example passes in an int argument from python in to the C function and returns an `int` value"
      ],
      "metadata": {
        "id": "Y1OmwyECAMLA"
      }
    },
    {
      "cell_type": "code",
      "source": [
        "from loial.builders.cc_builder import cc_build\n",
        "\n",
        "@cc_build('''\n",
        "int fun2(int a) {\n",
        "    return a * 10;\n",
        "}\n",
        "''')\n",
        "def fun2(a):\n",
        "    return a\n",
        "\n",
        "assert fun2(3) == 30"
      ],
      "metadata": {
        "id": "B67sAZelASQ-"
      },
      "execution_count": 9,
      "outputs": []
    },
    {
      "cell_type": "markdown",
      "source": [
        "Multiple arguments are also supported."
      ],
      "metadata": {
        "id": "maiBjmN4A5NB"
      }
    },
    {
      "cell_type": "code",
      "source": [
        "from loial.builders.cc_builder import cc_build\n",
        "\n",
        "@cc_build('''\n",
        "int fun3(int a, int b, int c) {\n",
        "    return a + b + c;\n",
        "}\n",
        "''')\n",
        "def fun3(a, b, c):\n",
        "    return a*b*c\n",
        "\n",
        "assert fun3(1, 2, 3) == 6"
      ],
      "metadata": {
        "id": "dAt9AamkAzmy"
      },
      "execution_count": 10,
      "outputs": []
    },
    {
      "cell_type": "markdown",
      "source": [
        "Calling the replaced python function also supports named arguments.\n",
        "\n",
        "Here the arguments `d` & `e` are names and used in reverse order."
      ],
      "metadata": {
        "id": "6SV6laziBJNn"
      }
    },
    {
      "cell_type": "code",
      "source": [
        "from loial.builders.cc_builder import cc_build\n",
        "\n",
        "@cc_build('''\n",
        "int fun4(int a, int b, int c, int d, int e) {\n",
        "    return ((a + b + c)*d)/e;\n",
        "}\n",
        "''')\n",
        "def fun4(a, b, c, d, e):\n",
        "    return (a*b*c+d)*e\n",
        "\n",
        "assert fun4(1, 2, 3, e=2, d=10) == 30"
      ],
      "metadata": {
        "id": "3SFJJQ3HBGqP"
      },
      "execution_count": 11,
      "outputs": []
    },
    {
      "cell_type": "markdown",
      "source": [
        "Default python values are also supported when calling a replacement C function.\n",
        "\n",
        "Here the default value for `e` is being used in the method call"
      ],
      "metadata": {
        "id": "swoMfymABVaW"
      }
    },
    {
      "cell_type": "code",
      "source": [
        "from loial.builders.cc_builder import cc_build\n",
        "\n",
        "@cc_build('''\n",
        "int fun5(int a, int b, int c, int d, int e) {\n",
        "    return ((a + b + c)*d)/e;\n",
        "}\n",
        "''')\n",
        "def fun5(a, b, c, d, e=2):\n",
        "    return (a*b*c+d)*e\n",
        "\n",
        "assert fun5(1, 2, 3, d=10) == 30"
      ],
      "metadata": {
        "id": "3KVYVUsiBV9n"
      },
      "execution_count": 12,
      "outputs": []
    },
    {
      "cell_type": "markdown",
      "source": [
        "If there is an error or the C code does not compile, then the default python implementation is used as a fallback.\n",
        "\n",
        "However the compile failure is logged using standard python logging."
      ],
      "metadata": {
        "id": "AzW9xMTdB9bx"
      }
    },
    {
      "cell_type": "markdown",
      "source": [],
      "metadata": {
        "id": "7Aok1mv4CU0Q"
      }
    },
    {
      "cell_type": "code",
      "source": [
        "from loial.builders.cc_builder import cc_build\n",
        "\n",
        "@cc_build('''\n",
        "    junk\n",
        "''')\n",
        "def bad(a, b, c, d):\n",
        "    return (a+b+c)*d\n",
        "\n",
        "assert bad(1, 2, 3, 10) == 60\n",
        "\n",
        "print(f'{\"=\"*10}\\nSuccessful result {bad(1, 2, 3, 10)}')"
      ],
      "metadata": {
        "id": "SlNswFswB8pN",
        "outputId": "3e196dba-ef67-4fcd-b00d-46abb9ad5f27",
        "colab": {
          "base_uri": "https://localhost:8080/"
        }
      },
      "execution_count": 15,
      "outputs": [
        {
          "output_type": "stream",
          "name": "stderr",
          "text": [
            "ERROR:loial.builders.cc_builder:Error compiling code: /root/.loial/lib__main__.bad_61337cf369816ff5d971d30baf628637.so.c:2:5: error: expected ‘=’, ‘,’, ‘;’, ‘asm’ or ‘__attribute__’ at end of input\n",
            "    2 |     junk\n",
            "      |     ^~~~\n",
            "Traceback (most recent call last):\n",
            "  File \"/usr/local/lib/python3.12/dist-packages/loial/builders/cc_builder.py\", line 356, in cc_compile\n",
            "    out = subprocess.run(\n",
            "          ^^^^^^^^^^^^^^^\n",
            "  File \"/usr/lib/python3.12/subprocess.py\", line 571, in run\n",
            "    raise CalledProcessError(retcode, process.args,\n",
            "subprocess.CalledProcessError: Command '['cc', '-I', '/tmp', '-fPIC', '-shared', '-o', '/root/.loial/lib__main__.bad_61337cf369816ff5d971d30baf628637.so', '/root/.loial/lib__main__.bad_61337cf369816ff5d971d30baf628637.so.c']' returned non-zero exit status 1.\n"
          ]
        },
        {
          "output_type": "stream",
          "name": "stdout",
          "text": [
            "==========\n",
            "Successful result 60\n"
          ]
        }
      ]
    },
    {
      "cell_type": "markdown",
      "source": [
        "When building a replacement function, an extra configuraiton instance can be passed in.\n",
        "\n",
        "This config can be used to auto delete the compiled shared object when the application exits.\n",
        "\n",
        "When the function is replaced by the C code, the new function instance can be used to access the new callable replacement.\n",
        "\n",
        "By default the `CC_Builder` will look through the search path to find a location to cache the compiled library."
      ],
      "metadata": {
        "id": "bANLBMxHCw3I"
      }
    },
    {
      "cell_type": "code",
      "source": [
        "from loial.builders.cc_builder import CC_Config\n",
        "\n",
        "print(CC_Config().cache_search_path)"
      ],
      "metadata": {
        "id": "ZM9TS5X0EJ90",
        "outputId": "48e67586-6141-419b-f40a-fefb6a415c1a",
        "colab": {
          "base_uri": "https://localhost:8080/"
        }
      },
      "execution_count": 19,
      "outputs": [
        {
          "output_type": "stream",
          "name": "stdout",
          "text": [
            "('/root/.loial', PosixPath('loial'))\n"
          ]
        }
      ]
    },
    {
      "cell_type": "code",
      "source": [
        "!rm -rf /root/.loial"
      ],
      "metadata": {
        "id": "4XL-n3MMDy-O"
      },
      "execution_count": 22,
      "outputs": []
    },
    {
      "cell_type": "code",
      "source": [
        "from loial.builders.cc_builder import cc_build, CC_Config\n",
        "\n",
        "@cc_build('''\n",
        "int delete_me() {\n",
        "    return 10;\n",
        "}\n",
        "''', CC_Config(delete_on_exit=True))\n",
        "def delete_me():\n",
        "    return 1\n",
        "\n",
        "assert delete_me(0) == 10\n",
        "\n",
        "print(delete_me.callable.so_file)\n"
      ],
      "metadata": {
        "id": "IkZuW70ZDCey",
        "outputId": "f178a925-352c-42db-db04-0ab8bd4afbfb",
        "colab": {
          "base_uri": "https://localhost:8080/"
        }
      },
      "execution_count": 38,
      "outputs": [
        {
          "output_type": "stream",
          "name": "stdout",
          "text": [
            "/root/.loial/lib__main__.delete_me_e58d682f73d55cd5c53a8970829516b4.so\n"
          ]
        }
      ]
    },
    {
      "cell_type": "code",
      "source": [
        "!ls /root/.loial*"
      ],
      "metadata": {
        "id": "WAdopb19EYSu"
      },
      "execution_count": 39,
      "outputs": []
    },
    {
      "cell_type": "markdown",
      "source": [
        "Alternatively the global value can be set in the `CC_Config` class"
      ],
      "metadata": {
        "id": "bwC_kJBDE3Sb"
      }
    },
    {
      "cell_type": "code",
      "source": [
        "from loial.builders.cc_builder import cc_build, CC_Config\n",
        "\n",
        "CC_Config.delete_on_exit=True\n",
        "\n",
        "@cc_build('''\n",
        "int delete_me() {\n",
        "    return 10;\n",
        "}\n",
        "''')\n",
        "def delete_me():\n",
        "    return 1\n",
        "\n",
        "assert delete_me(0) == 10\n",
        "\n",
        "print(delete_me.callable.so_file)"
      ],
      "metadata": {
        "id": "LIIW0lFqFC-k",
        "outputId": "9a238277-888b-4198-f65a-b673211df8b7",
        "colab": {
          "base_uri": "https://localhost:8080/"
        }
      },
      "execution_count": 40,
      "outputs": [
        {
          "output_type": "stream",
          "name": "stdout",
          "text": [
            "/root/.loial/lib__main__.delete_me_e58d682f73d55cd5c53a8970829516b4.so\n"
          ]
        }
      ]
    },
    {
      "cell_type": "code",
      "source": [
        "!ls /root/.loial*"
      ],
      "metadata": {
        "id": "nuYMKY6LFOXl"
      },
      "execution_count": 41,
      "outputs": []
    },
    {
      "cell_type": "markdown",
      "source": [
        "The default search path to find a cache directory can be configured in the `CC_Config` class."
      ],
      "metadata": {
        "id": "kRjaj-eGFWS8"
      }
    },
    {
      "cell_type": "code",
      "source": [
        "CC_Config.cache_search_path = [f'./mycache']\n",
        "\n",
        "@cc_build('''\n",
        "int cached() {\n",
        "    return 10;\n",
        "}\n",
        "''')\n",
        "def cached():\n",
        "    return 1\n",
        "\n",
        "assert cached(0) == 10\n",
        "\n",
        "print(cached.callable.so_file)"
      ],
      "metadata": {
        "id": "MbSlMn_nFfa-",
        "outputId": "bbaad5c2-f4cc-4e13-86e4-c50490e90172",
        "colab": {
          "base_uri": "https://localhost:8080/"
        }
      },
      "execution_count": 42,
      "outputs": [
        {
          "output_type": "stream",
          "name": "stdout",
          "text": [
            "/content/mycache/lib__main__.cached_3acec0a97280c767692df798daf4a79e.so\n"
          ]
        }
      ]
    }
  ]
}