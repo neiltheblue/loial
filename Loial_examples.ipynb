{
  "nbformat": 4,
  "nbformat_minor": 0,
  "metadata": {
    "colab": {
      "provenance": [],
      "toc_visible": true,
      "authorship_tag": "ABX9TyOQeS5c/yVCaMwISnXJmsxl",
      "include_colab_link": true
    },
    "kernelspec": {
      "name": "python3",
      "display_name": "Python 3"
    },
    "language_info": {
      "name": "python"
    }
  },
  "cells": [
    {
      "cell_type": "markdown",
      "metadata": {
        "id": "view-in-github",
        "colab_type": "text"
      },
      "source": [
        "<a href=\"https://colab.research.google.com/github/neiltheblue/loial/blob/main/Loial_examples.ipynb\" target=\"_parent\"><img src=\"https://colab.research.google.com/assets/colab-badge.svg\" alt=\"Open In Colab\"/></a>"
      ]
    },
    {
      "cell_type": "markdown",
      "source": [
        "The Loial pacakge needs to be available, as package or from the git repo."
      ],
      "metadata": {
        "id": "M4oq3ZbWaPpo"
      }
    },
    {
      "cell_type": "code",
      "execution_count": 74,
      "metadata": {
        "id": "lWvnarcGwArM",
        "outputId": "0a7e2cc3-63e0-48b2-d0fd-b1b430444b5c",
        "colab": {
          "base_uri": "https://localhost:8080/"
        }
      },
      "outputs": [
        {
          "output_type": "stream",
          "name": "stdout",
          "text": [
            "Looking in indexes: https://test.pypi.org/simple/\n",
            "Requirement already satisfied: loial in /usr/local/lib/python3.12/dist-packages (0.0.1)\n"
          ]
        }
      ],
      "source": [
        "!pip install -i https://test.pypi.org/simple/ loial"
      ]
    },
    {
      "cell_type": "markdown",
      "source": [
        "# Simple Python builder example\n",
        "\n",
        "The current Loial project supports two buildedrs. One is the python builder that is used mainly to exercise the framework, and the CC compiler that is used to integrate compiles libraries. So far this has only been tested using Linux."
      ],
      "metadata": {
        "id": "x2wMZbGfa7cM"
      }
    },
    {
      "cell_type": "markdown",
      "source": [
        "This first exmaple shows how a python method can be replaced by an alternative implemention."
      ],
      "metadata": {
        "id": "tCBloYaobhi_"
      }
    },
    {
      "cell_type": "code",
      "source": [
        "def grow(x):\n",
        "  return x + x\n",
        "\n",
        "assert grow(3) == 6"
      ],
      "metadata": {
        "id": "3if53wOBbolq"
      },
      "execution_count": 75,
      "outputs": []
    },
    {
      "cell_type": "markdown",
      "source": [
        "The alternative implementation. Here the content of the build decorator is used instead of the python method body."
      ],
      "metadata": {
        "id": "mEtXzdzIcCTH"
      }
    },
    {
      "cell_type": "code",
      "source": [
        "from loial import build\n",
        "\n",
        "@build('return x ** 2')\n",
        "def grow(x):\n",
        "  return x + x\n",
        "\n",
        "assert grow(3) == 9"
      ],
      "metadata": {
        "id": "CRHhugebcHYo"
      },
      "execution_count": 76,
      "outputs": []
    },
    {
      "cell_type": "markdown",
      "source": [
        "This alternative behaviour can be turned off."
      ],
      "metadata": {
        "id": "8X3zlqAjfMux"
      }
    },
    {
      "cell_type": "code",
      "source": [
        "from loial import build\n",
        "\n",
        "@build('return x ** 2', replace=False)\n",
        "def grow(x):\n",
        "  return x + x\n",
        "\n",
        "assert grow(3) == 6"
      ],
      "metadata": {
        "id": "zwkYDKWOfRx0"
      },
      "execution_count": 77,
      "outputs": []
    },
    {
      "cell_type": "markdown",
      "source": [
        "If the alternative code does not compile, then the original body will not be replaced,"
      ],
      "metadata": {
        "id": "6At7XXmPffP1"
      }
    },
    {
      "cell_type": "code",
      "source": [
        "from loial import build\n",
        "\n",
        "@build('return x to the power of 2')\n",
        "def grow(x):\n",
        "  return x + x\n",
        "\n",
        "assert grow(3) == 6\n",
        "print(f'Output: {grow(3)}')"
      ],
      "metadata": {
        "id": "k02fanH2feYm",
        "outputId": "fe7efcee-cd70-44bd-b3c3-32f7f9acd678",
        "colab": {
          "base_uri": "https://localhost:8080/"
        }
      },
      "execution_count": 78,
      "outputs": [
        {
          "output_type": "stream",
          "name": "stderr",
          "text": [
            "ERROR:loial.builders.python_builder:Error compiling code, using defaut: invalid syntax (<string>, line 1)\n"
          ]
        },
        {
          "output_type": "stream",
          "name": "stdout",
          "text": [
            "Output: 6\n"
          ]
        }
      ]
    },
    {
      "cell_type": "markdown",
      "source": [
        "# C builder example\n",
        "\n",
        "These examples demonstrate how to compile C code to replace python functions.\n",
        "\n",
        "This first example shows how to call a simple that take no arguments and returns an `int` value.\n",
        "\n",
        "Note that this uses the `@cc_build` decorator, and unless decfined otherwise all values are assumed to be `int`.\n",
        "\n",
        "Unlike with the python builder, the C code must include a function, which by default has the same name as the python function that is being replaced."
      ],
      "metadata": {
        "id": "YaWVupWL_ACn"
      }
    },
    {
      "cell_type": "code",
      "source": [
        "from loial.builders.cc_builder import cc_build\n",
        "\n",
        "@cc_build('''\n",
        "int fun1() {\n",
        "    return 10;\n",
        "}\n",
        "''')\n",
        "def fun1():\n",
        "    return 1\n",
        "\n",
        "assert fun1() == 10"
      ],
      "metadata": {
        "id": "qQmUrqWu_XAR"
      },
      "execution_count": 79,
      "outputs": []
    },
    {
      "cell_type": "markdown",
      "source": [
        "This next example passes in an int argument from python in to the C function and returns an `int` value"
      ],
      "metadata": {
        "id": "Y1OmwyECAMLA"
      }
    },
    {
      "cell_type": "code",
      "source": [
        "from loial.builders.cc_builder import cc_build\n",
        "\n",
        "@cc_build('''\n",
        "int fun2(int a) {\n",
        "    return a * 10;\n",
        "}\n",
        "''')\n",
        "def fun2(a):\n",
        "    return a\n",
        "\n",
        "assert fun2(3) == 30"
      ],
      "metadata": {
        "id": "B67sAZelASQ-"
      },
      "execution_count": 80,
      "outputs": []
    },
    {
      "cell_type": "markdown",
      "source": [
        "Multiple arguments are also supported."
      ],
      "metadata": {
        "id": "maiBjmN4A5NB"
      }
    },
    {
      "cell_type": "code",
      "source": [
        "from loial.builders.cc_builder import cc_build\n",
        "\n",
        "@cc_build('''\n",
        "int fun3(int a, int b, int c) {\n",
        "    return a + b + c;\n",
        "}\n",
        "''')\n",
        "def fun3(a, b, c):\n",
        "    return a*b*c\n",
        "\n",
        "assert fun3(1, 2, 3) == 6"
      ],
      "metadata": {
        "id": "dAt9AamkAzmy"
      },
      "execution_count": 81,
      "outputs": []
    },
    {
      "cell_type": "markdown",
      "source": [
        "Calling the replaced python function also supports named arguments.\n",
        "\n",
        "Here the arguments `d` & `e` are names and used in reverse order."
      ],
      "metadata": {
        "id": "6SV6laziBJNn"
      }
    },
    {
      "cell_type": "code",
      "source": [
        "from loial.builders.cc_builder import cc_build\n",
        "\n",
        "@cc_build('''\n",
        "int fun4(int a, int b, int c, int d, int e) {\n",
        "    return ((a + b + c)*d)/e;\n",
        "}\n",
        "''')\n",
        "def fun4(a, b, c, d, e):\n",
        "    return (a*b*c+d)*e\n",
        "\n",
        "assert fun4(1, 2, 3, e=2, d=10) == 30"
      ],
      "metadata": {
        "id": "3SFJJQ3HBGqP"
      },
      "execution_count": 82,
      "outputs": []
    },
    {
      "cell_type": "markdown",
      "source": [
        "Default python values are also supported when calling a replacement C function.\n",
        "\n",
        "Here the default value for `e` is being used in the method call"
      ],
      "metadata": {
        "id": "swoMfymABVaW"
      }
    },
    {
      "cell_type": "code",
      "source": [
        "from loial.builders.cc_builder import cc_build\n",
        "\n",
        "@cc_build('''\n",
        "int fun5(int a, int b, int c, int d, int e) {\n",
        "    return ((a + b + c)*d)/e;\n",
        "}\n",
        "''')\n",
        "def fun5(a, b, c, d, e=2):\n",
        "    return (a*b*c+d)*e\n",
        "\n",
        "assert fun5(1, 2, 3, d=10) == 30"
      ],
      "metadata": {
        "id": "3KVYVUsiBV9n"
      },
      "execution_count": 83,
      "outputs": []
    },
    {
      "cell_type": "markdown",
      "source": [
        "If there is an error or the C code does not compile, then the default python implementation is used as a fallback.\n",
        "\n",
        "However the compile failure is logged using standard python logging."
      ],
      "metadata": {
        "id": "AzW9xMTdB9bx"
      }
    },
    {
      "cell_type": "markdown",
      "source": [],
      "metadata": {
        "id": "7Aok1mv4CU0Q"
      }
    },
    {
      "cell_type": "code",
      "source": [
        "from loial.builders.cc_builder import cc_build\n",
        "\n",
        "@cc_build('''\n",
        "    junk\n",
        "''')\n",
        "def bad(a, b, c, d):\n",
        "    return (a+b+c)*d\n",
        "\n",
        "assert bad(1, 2, 3, 10) == 60\n",
        "\n",
        "print(f'{\"=\"*10}\\nSuccessful result {bad(1, 2, 3, 10)}')"
      ],
      "metadata": {
        "id": "SlNswFswB8pN",
        "outputId": "1923e71d-b7e1-48b9-de43-d1087e22a461",
        "colab": {
          "base_uri": "https://localhost:8080/"
        }
      },
      "execution_count": 84,
      "outputs": [
        {
          "output_type": "stream",
          "name": "stderr",
          "text": [
            "ERROR:loial.builders.cc_builder:Error compiling code: /content/mycache/lib__main__.bad_61337cf369816ff5d971d30baf628637.so.c:2:5: error: expected ‘=’, ‘,’, ‘;’, ‘asm’ or ‘__attribute__’ at end of input\n",
            "    2 |     junk\n",
            "      |     ^~~~\n",
            "Traceback (most recent call last):\n",
            "  File \"/usr/local/lib/python3.12/dist-packages/loial/builders/cc_builder.py\", line 356, in cc_compile\n",
            "    out = subprocess.run(\n",
            "          ^^^^^^^^^^^^^^^\n",
            "  File \"/usr/lib/python3.12/subprocess.py\", line 571, in run\n",
            "    raise CalledProcessError(retcode, process.args,\n",
            "subprocess.CalledProcessError: Command '['cc', '-I', '/tmp', '-fPIC', '-shared', '-o', '/content/mycache/lib__main__.bad_61337cf369816ff5d971d30baf628637.so', '/content/mycache/lib__main__.bad_61337cf369816ff5d971d30baf628637.so.c']' returned non-zero exit status 1.\n"
          ]
        },
        {
          "output_type": "stream",
          "name": "stdout",
          "text": [
            "==========\n",
            "Successful result 60\n"
          ]
        }
      ]
    },
    {
      "cell_type": "markdown",
      "source": [
        "When building a replacement function, an extra configuraiton instance can be passed in.\n",
        "\n",
        "This config can be used to auto delete the compiled shared object when the application exits.\n",
        "\n",
        "When the function is replaced by the C code, the new function instance can be used to access the new callable replacement.\n",
        "\n",
        "By default the `CC_Builder` will look through the search path to find a location to cache the compiled library."
      ],
      "metadata": {
        "id": "bANLBMxHCw3I"
      }
    },
    {
      "cell_type": "code",
      "source": [
        "from loial.builders.cc_builder import CC_Config\n",
        "\n",
        "print(CC_Config().cache_search_path)"
      ],
      "metadata": {
        "id": "ZM9TS5X0EJ90",
        "outputId": "b43647d2-8e27-4b0c-953c-b8e62c1395df",
        "colab": {
          "base_uri": "https://localhost:8080/"
        }
      },
      "execution_count": 85,
      "outputs": [
        {
          "output_type": "stream",
          "name": "stdout",
          "text": [
            "['./mycache']\n"
          ]
        }
      ]
    },
    {
      "cell_type": "code",
      "source": [
        "!rm -rf /root/.loial"
      ],
      "metadata": {
        "id": "4XL-n3MMDy-O"
      },
      "execution_count": 86,
      "outputs": []
    },
    {
      "cell_type": "code",
      "source": [
        "from loial.builders.cc_builder import cc_build, CC_Config\n",
        "\n",
        "@cc_build('''\n",
        "int delete_me() {\n",
        "    return 10;\n",
        "}\n",
        "''', CC_Config(delete_on_exit=True))\n",
        "def delete_me():\n",
        "    return 1\n",
        "\n",
        "assert delete_me(0) == 10\n",
        "\n",
        "print(delete_me.callable.so_file)\n"
      ],
      "metadata": {
        "id": "IkZuW70ZDCey",
        "outputId": "b5d177fd-2c43-4c8f-ddfd-0d588c4ca8ec",
        "colab": {
          "base_uri": "https://localhost:8080/"
        }
      },
      "execution_count": 87,
      "outputs": [
        {
          "output_type": "stream",
          "name": "stdout",
          "text": [
            "/content/mycache/lib__main__.delete_me_e58d682f73d55cd5c53a8970829516b4.so\n"
          ]
        }
      ]
    },
    {
      "cell_type": "code",
      "source": [
        "!ls /root/.loial*"
      ],
      "metadata": {
        "id": "WAdopb19EYSu",
        "colab": {
          "base_uri": "https://localhost:8080/"
        },
        "outputId": "3a0f9b1e-e45a-4871-8fe8-83616dd8727c"
      },
      "execution_count": 88,
      "outputs": [
        {
          "output_type": "stream",
          "name": "stdout",
          "text": [
            "ls: cannot access '/root/.loial*': No such file or directory\n"
          ]
        }
      ]
    },
    {
      "cell_type": "markdown",
      "source": [
        "Alternatively the global value can be set in the `CC_Config` class"
      ],
      "metadata": {
        "id": "bwC_kJBDE3Sb"
      }
    },
    {
      "cell_type": "code",
      "source": [
        "from loial.builders.cc_builder import cc_build, CC_Config\n",
        "\n",
        "CC_Config.delete_on_exit=True\n",
        "\n",
        "@cc_build('''\n",
        "int delete_me() {\n",
        "    return 10;\n",
        "}\n",
        "''')\n",
        "def delete_me():\n",
        "    return 1\n",
        "\n",
        "assert delete_me(0) == 10\n",
        "\n",
        "print(delete_me.callable.so_file)"
      ],
      "metadata": {
        "id": "LIIW0lFqFC-k",
        "outputId": "de993362-6c5f-448d-e26f-401840200b38",
        "colab": {
          "base_uri": "https://localhost:8080/"
        }
      },
      "execution_count": 89,
      "outputs": [
        {
          "output_type": "stream",
          "name": "stdout",
          "text": [
            "/content/mycache/lib__main__.delete_me_e58d682f73d55cd5c53a8970829516b4.so\n"
          ]
        }
      ]
    },
    {
      "cell_type": "code",
      "source": [
        "!ls /root/.loial*"
      ],
      "metadata": {
        "id": "nuYMKY6LFOXl",
        "colab": {
          "base_uri": "https://localhost:8080/"
        },
        "outputId": "14b98271-e655-4705-e075-b725d7a81641"
      },
      "execution_count": 90,
      "outputs": [
        {
          "output_type": "stream",
          "name": "stdout",
          "text": [
            "ls: cannot access '/root/.loial*': No such file or directory\n"
          ]
        }
      ]
    },
    {
      "cell_type": "markdown",
      "source": [
        "The default search path to find a cache directory can be configured in the `CC_Config` class."
      ],
      "metadata": {
        "id": "kRjaj-eGFWS8"
      }
    },
    {
      "cell_type": "code",
      "source": [
        "from loial.builders.cc_builder import cc_build, CC_Config\n",
        "\n",
        "CC_Config.cache_search_path = [f'./mycache']\n",
        "\n",
        "@cc_build('''\n",
        "int cached() {\n",
        "    return 10;\n",
        "}\n",
        "''')\n",
        "def cached():\n",
        "    return 1\n",
        "\n",
        "assert cached(0) == 10\n",
        "\n",
        "print(cached.callable.so_file)"
      ],
      "metadata": {
        "id": "MbSlMn_nFfa-",
        "outputId": "ed06ebcd-f2a3-41d8-cb9b-8eece79c304c",
        "colab": {
          "base_uri": "https://localhost:8080/"
        }
      },
      "execution_count": 91,
      "outputs": [
        {
          "output_type": "stream",
          "name": "stdout",
          "text": [
            "/content/mycache/lib__main__.cached_3acec0a97280c767692df798daf4a79e.so\n"
          ]
        }
      ]
    },
    {
      "cell_type": "markdown",
      "source": [
        "C typed parameters can be used if defined as hints in the python function defintion.\n",
        "\n",
        "Here the standard `ctypes` are being used, and they also support named and default values.\n",
        "\n",
        "Also in this example the standard io library is also included."
      ],
      "metadata": {
        "id": "5AeWIXkjHJKt"
      }
    },
    {
      "cell_type": "code",
      "source": [
        "import ctypes\n",
        "from loial.builders.cc_builder import cc_build\n",
        "\n",
        "@cc_build(r'''\n",
        "#include <stdio.h>\n",
        "int typed(short a, float b, float c) {\n",
        "\n",
        "    printf(\"sizes:%d %d %d\\n\", sizeof(a), sizeof(b), sizeof(c));\n",
        "    printf(\"values:%d %d %d\\n\", a, b, c);\n",
        "    return a + b + c;\n",
        "}\n",
        "''')\n",
        "def typed(a: ctypes.c_short, b: ctypes.c_float, c: ctypes.c_float, d: ctypes.c_float = 2.0):\n",
        "    return a*b*c\n",
        "\n",
        "assert typed(1, 2.0, c=3.0) == 6"
      ],
      "metadata": {
        "id": "lmMc2zLxHFoZ"
      },
      "execution_count": 92,
      "outputs": []
    },
    {
      "cell_type": "markdown",
      "source": [
        "The return type can also be defined using hints."
      ],
      "metadata": {
        "id": "LXWRmN3dKscJ"
      }
    },
    {
      "cell_type": "code",
      "source": [
        "from loial.builders.cc_builder import cc_build\n",
        "\n",
        "@cc_build(r'''\n",
        "float freturn(int a, int b, int c) {\n",
        "    return (a + b + c)/2.0;\n",
        "}\n",
        "''')\n",
        "def freturn(a, b, c) -> ctypes.c_float:\n",
        "    return a*b*c\n",
        "\n",
        "assert freturn(1, 2, 3) == 3.0"
      ],
      "metadata": {
        "id": "8qhi-RH1KwjS"
      },
      "execution_count": 93,
      "outputs": []
    },
    {
      "cell_type": "markdown",
      "source": [
        "Using the CC_Config, the default `cc` compiler can also be configured."
      ],
      "metadata": {
        "id": "eztkkueeIDI_"
      }
    },
    {
      "cell_type": "code",
      "source": [
        "from loial.builders.cc_builder import cc_build\n",
        "\n",
        "@cc_build(r'''\n",
        "int comp(int a, int b, int c) {\n",
        "    return a + b + c;\n",
        "}\n",
        "''', CC_Config(compiler='gcc'))\n",
        "def comp(a, b, c):\n",
        "    return a*b*c\n",
        "\n",
        "assert comp(1, 2, 3) == 6"
      ],
      "metadata": {
        "id": "QY4u3NxFIJmk"
      },
      "execution_count": 94,
      "outputs": []
    },
    {
      "cell_type": "markdown",
      "source": [
        "The compiler options can also be updated."
      ],
      "metadata": {
        "id": "Hkt9LcUzJjQS"
      }
    },
    {
      "cell_type": "code",
      "source": [
        "from loial.builders.cc_builder import cc_build, CC_Config\n",
        "\n",
        "print(CC_Config().compiler_opts)\n",
        "\n",
        "@cc_build(r'''\n",
        "int comp(int a, int b, int c) {\n",
        "    return a + b + c;\n",
        "}\n",
        "''', CC_Config(compiler_opts=('-fPIC', '-shared', '-O3')))\n",
        "def comp(a, b, c):\n",
        "    return a*b*c\n",
        "\n",
        "assert comp(1, 2, 3) == 6\n",
        "print(comp.callable.config.compiler_opts)"
      ],
      "metadata": {
        "colab": {
          "base_uri": "https://localhost:8080/"
        },
        "id": "kszg7QYTJm7l",
        "outputId": "b4d34dc9-8f95-4ce3-92d3-e815b698cbd6"
      },
      "execution_count": 95,
      "outputs": [
        {
          "output_type": "stream",
          "name": "stdout",
          "text": [
            "('-fPIC', '-shared')\n",
            "('-fPIC', '-shared', '-O3')\n"
          ]
        }
      ]
    },
    {
      "cell_type": "markdown",
      "source": [
        "The config object can also be used to replace the C function name that is called."
      ],
      "metadata": {
        "id": "AOmwHU8UKbkZ"
      }
    },
    {
      "cell_type": "code",
      "source": [
        "from loial.builders.cc_builder import cc_build, CC_Config\n",
        "\n",
        "@cc_build(r'''\n",
        "int main(int a, int b, int c) {\n",
        "    return a + b + c;\n",
        "}\n",
        "''', CC_Config(function='main'))\n",
        "def not_main(a, b, c):\n",
        "    return a*b*c\n",
        "\n",
        "assert not_main(1, 2, 3) == 6"
      ],
      "metadata": {
        "id": "jCEA8apVKfvc"
      },
      "execution_count": 96,
      "outputs": []
    },
    {
      "cell_type": "markdown",
      "source": [
        "Values can be passed into the C function as references if they have a hint defined type."
      ],
      "metadata": {
        "id": "uJFkG_hwKphb"
      }
    },
    {
      "cell_type": "code",
      "source": [
        "import ctypes\n",
        "from loial.builders.cc_builder import cc_build, AsRef\n",
        "\n",
        "@cc_build('''\n",
        "int ref(int* a, int b) {\n",
        "    return *a * b;\n",
        "}\n",
        "''')\n",
        "def ref(a: ctypes.c_int, b):\n",
        "    return a+b\n",
        "\n",
        "a = 3\n",
        "b = 10\n",
        "assert ref(AsRef(a), b) == 30"
      ],
      "metadata": {
        "id": "O8_fLx6dNkWZ"
      },
      "execution_count": 97,
      "outputs": []
    },
    {
      "cell_type": "markdown",
      "source": [
        "Or the parameter name be registered in the config to pass by ref."
      ],
      "metadata": {
        "id": "6TXZ4OaCN5zv"
      }
    },
    {
      "cell_type": "code",
      "source": [
        "import ctypes\n",
        "from loial.builders.cc_builder import cc_build, CC_Config\n",
        "\n",
        "@cc_build('''\n",
        "int ref(int* a, int b) {\n",
        "    return *a * b;\n",
        "}\n",
        "''', CC_Config(refs={'a'}))\n",
        "def ref(a: ctypes.c_int, b):\n",
        "    return a+b\n",
        "\n",
        "a = 3\n",
        "b = 10\n",
        "assert ref(a, b) == 30"
      ],
      "metadata": {
        "id": "uFhyGqJAOAmr"
      },
      "execution_count": 98,
      "outputs": []
    },
    {
      "cell_type": "markdown",
      "source": [
        "The use of pass by ref is more efficient, but if passing by pointer is needed then it is possible in a simlar way."
      ],
      "metadata": {
        "id": "gfU5LWkoOg12"
      }
    },
    {
      "cell_type": "code",
      "source": [
        "import ctypes\n",
        "from loial.builders.cc_builder import cc_build, AsPointer\n",
        "\n",
        "@cc_build('''\n",
        "int ptr(int* a, int b) {\n",
        "    *a=99;\n",
        "    return *a * b;\n",
        "}\n",
        "''')\n",
        "def ptr(a: ctypes.c_int, b):\n",
        "    return a+b\n",
        "\n",
        "a = AsPointer(3)\n",
        "b = 10\n",
        "assert ptr(a, b) == 990\n",
        "assert a.value == 99"
      ],
      "metadata": {
        "id": "jYstAM-1Oo4y"
      },
      "execution_count": 99,
      "outputs": []
    },
    {
      "cell_type": "markdown",
      "source": [
        "An array can be passed in as a list if the array type is defined as a parameter hint."
      ],
      "metadata": {
        "id": "38Cs0zd8O6qk"
      }
    },
    {
      "cell_type": "code",
      "source": [
        "import ctypes\n",
        "from loial.builders.cc_builder import cc_build\n",
        "\n",
        "@cc_build('''\n",
        "int arr(int a[], int b) {\n",
        "    int i;\n",
        "    int sum=0;\n",
        "    for(i=0; i<b; i++)\n",
        "    {\n",
        "        sum = sum + a[i];\n",
        "    }\n",
        "    return sum;\n",
        "}\n",
        "''')\n",
        "def arr(a: ctypes.c_int, b):\n",
        "    return max(a)\n",
        "\n",
        "assert arr([1, 2, 3], 3) == 6"
      ],
      "metadata": {
        "id": "Oaof-NJFPChR"
      },
      "execution_count": 100,
      "outputs": []
    },
    {
      "cell_type": "markdown",
      "source": [
        "Python classes can be passed in a structures by extending `C_Struct` and adding attribute hints. The `C_Struct` class also defines a method `define` to output a C structure for the class."
      ],
      "metadata": {
        "id": "sU3GjRmKPc1N"
      }
    },
    {
      "cell_type": "code",
      "source": [
        "import ctypes\n",
        "from loial.builders.cc_builder import cc_build, C_Struct\n",
        "\n",
        "class Field(C_Struct):\n",
        "    _fields_ = [(\"a\", ctypes.c_int),\n",
        "                (\"b\", ctypes.c_int)]\n",
        "\n",
        "class Record(C_Struct):\n",
        "    _fields_ = [(\"first\", ctypes.c_int),\n",
        "                (\"second\", ctypes.c_bool),\n",
        "                (\"third\", ctypes.c_char),\n",
        "                (\"fourth\", ctypes.c_wchar),\n",
        "                (\"fifth\", ctypes.c_byte),\n",
        "                (\"sixth\", ctypes.c_ubyte),\n",
        "                (\"seventh\", ctypes.c_short),\n",
        "                (\"eighth\", ctypes.c_ushort),\n",
        "                (\"nineth\", ctypes.c_int),\n",
        "                (\"tenth\", ctypes.c_uint),\n",
        "                (\"eleventh\", ctypes.c_long),\n",
        "                (\"twelth\", ctypes.c_ulong),\n",
        "                (\"thirteenth\", ctypes.c_longlong),\n",
        "                (\"fourteenth\", ctypes.c_ulonglong),\n",
        "                (\"fifteenth\", ctypes.c_size_t),\n",
        "                (\"sixteenth\", ctypes.c_ssize_t),\n",
        "                (\"seventeenth\", ctypes.c_float),\n",
        "                (\"eighteenth\", ctypes.c_double),\n",
        "                (\"nineteenth\", ctypes.c_longdouble),\n",
        "                (\"twenty\", ctypes.c_char_p),\n",
        "                (\"twentyone\", ctypes.c_wchar_p),\n",
        "                (\"twentytwo\", ctypes.c_void_p),\n",
        "                (\"field\", Field),\n",
        "                ]\n",
        "\n",
        "@cc_build('''\n",
        "#include<stdio.h>\n",
        "#include <wchar.h>\n",
        "          '''\n",
        "          + Field.define()\n",
        "          + Record.define() +\n",
        "          r'''\n",
        "\n",
        "int stru(Record r) {\n",
        "    printf(\"first:%d (%lu)\\n\", r.first, sizeof(r.first));\n",
        "    printf(\"second:%d (%lu)\\n\", r.second, sizeof(r.second));\n",
        "    printf(\"third:%c (%lu)\\n\", r.third, sizeof(r.third));\n",
        "    printf(\"fourth:%ld (%lu)\\n\", r.fourth, sizeof(r.fourth));\n",
        "    printf(\"fifth:%d (%lu)\\n\", r.fifth, sizeof(r.fifth));\n",
        "    printf(\"sixth:%d (%lu)\\n\", r.sixth, sizeof(r.sixth));\n",
        "    printf(\"seventh:%d (%lu)\\n\", r.seventh, sizeof(r.seventh));\n",
        "    printf(\"eighth:%d (%lu)\\n\", r.eighth, sizeof(r.eighth));\n",
        "    printf(\"nineth:%d (%lu)\\n\", r.nineth, sizeof(r.nineth));\n",
        "    printf(\"tenth:%u (%lu)\\n\", r.tenth, sizeof(r.tenth));\n",
        "    printf(\"eleventh:%ld (%lu)\\n\", r.eleventh, sizeof(r.eleventh));\n",
        "    printf(\"twelth:%lu (%lu)\\n\", r.twelth, sizeof(r.twelth));\n",
        "    printf(\"thirteenth:%lld (%lu)\\n\", r.tenth, sizeof(r.thirteenth));\n",
        "    printf(\"fourteenth:%llu (%lu)\\n\", r.fourteenth, sizeof(r.fourteenth));\n",
        "\n",
        "    printf(\"fifteenth:%zx (%lu)\\n\", r.fifteenth, sizeof(r.fifteenth));\n",
        "    printf(\"sixteenth:%zx (%lu)\\n\", r.sixteenth, sizeof(r.sixteenth));\n",
        "    printf(\"seventeenth:%f (%lu)\\n\", r.seventeenth, sizeof(r.seventeenth));\n",
        "    printf(\"eighteenth:%lf (%lu)\\n\", r.eighteenth, sizeof(r.eighteenth));\n",
        "    printf(\"nineteenth:%llf (%lu)\\n\", r.nineteenth, sizeof(r.nineteenth));\n",
        "    printf(\"twenty:%c (%lu)\\n\", *r.twenty, sizeof(r.twenty));\n",
        "    printf(\"twentyone:%ld (%lu)\\n\", *r.twentyone, sizeof(r.twentyone));\n",
        "    printf(\"twentytwo:%lu (%lu)\\n\", r.twentytwo, sizeof(r.twentytwo));\n",
        "    printf(\"field:%d %d\\n\", r.field.a, r.field.b);\n",
        "    return r.field.a * r.field.b;\n",
        "}\n",
        "''')\n",
        "def stru(dom):\n",
        "    return str(dom)\n",
        "\n",
        "dom = Record()\n",
        "dom.first = 3\n",
        "dom.second = True\n",
        "dom.third = b'a'\n",
        "dom.fourth = 'b'\n",
        "dom.fifth = 127\n",
        "dom.sixth = 255\n",
        "dom.seventh = -1\n",
        "dom.eighth = -1\n",
        "dom.nineth = -2\n",
        "dom.tenth = -2\n",
        "dom.eleventh = -3\n",
        "dom.twelth = -3\n",
        "dom.thirteenth = -4\n",
        "dom.fourteenth = -4\n",
        "dom.fifteenth = 123\n",
        "dom.sixteenth = 124\n",
        "dom.seventeenth = 1.23\n",
        "dom.eighteenth = 4.32\n",
        "dom.nineteenth = 2.34\n",
        "dom.twenty = b'c'\n",
        "dom.twentyone = 'd'\n",
        "dom.twentytwo = 999\n",
        "field = Field()\n",
        "field.a = 2\n",
        "field.b = 10\n",
        "dom.field = field\n",
        "\n",
        "assert stru(dom) == 20"
      ],
      "metadata": {
        "id": "TZ7kTo5EPiDL"
      },
      "execution_count": 106,
      "outputs": []
    },
    {
      "cell_type": "markdown",
      "source": [
        "As an alternative to the explicit class definition, the `c_struct` class decorator can be used."
      ],
      "metadata": {
        "id": "mpmnJgmTQFP_"
      }
    },
    {
      "cell_type": "code",
      "source": [
        "import ctypes\n",
        "from loial.builders.cc_builder import cc_build, c_struct\n",
        "\n",
        "\n",
        "class SuperClass():\n",
        "    pass\n",
        "\n",
        "@c_struct\n",
        "class LocalInnerStruct(SuperClass):\n",
        "    c: ctypes.c_short\n",
        "\n",
        "@c_struct\n",
        "class LocalStruct():\n",
        "    a: ctypes.c_int\n",
        "    b: ctypes.c_float\n",
        "    multi: LocalInnerStruct\n",
        "\n",
        "@cc_build('''\n",
        "#include<stdio.h>\n",
        "          '''\n",
        "          + LocalInnerStruct.define()\n",
        "          + LocalStruct.define() +\n",
        "          r'''\n",
        "\n",
        "int loca(LocalStruct s) {\n",
        "    printf(\"a:%d (%lu)\\n\", s.a, sizeof(s.a));\n",
        "    printf(\"b:%f (%lu)\\n\", s.b, sizeof(s.b));\n",
        "    return (s.a * s.b) * s.multi.c;\n",
        "}\n",
        "''')\n",
        "def loca(loc) -> ctypes.c_float:\n",
        "    return str(loc)\n",
        "\n",
        "loc = LocalStruct()\n",
        "loc.a = 3\n",
        "loc.b = 3.5\n",
        "loc.multi = LocalInnerStruct()\n",
        "loc.multi.c = 5\n",
        "\n",
        "assert loca(loc) == 52.5"
      ],
      "metadata": {
        "id": "TsK55nAgQOAl"
      },
      "execution_count": 105,
      "outputs": []
    },
    {
      "cell_type": "markdown",
      "source": [
        "External header files can be included in the compilation."
      ],
      "metadata": {
        "id": "A9z06CgwQ3I5"
      }
    },
    {
      "cell_type": "code",
      "source": [
        "!mkdir -p header\n",
        "!echo \"\" > header/values.h\n",
        "!echo \"/*\" >> header/values.h\n",
        "!echo \" * test include header file\" >> header/values.h\n",
        "!echo \" */\" >> header/values.h\n",
        "!echo \"int VALUE = 2;\" >> header/values.h\n",
        "!cat header/values.h\n"
      ],
      "metadata": {
        "id": "IB9px7juQ_sE",
        "outputId": "8299dbfd-987c-42a4-a8e8-aca725534ec3",
        "colab": {
          "base_uri": "https://localhost:8080/"
        }
      },
      "execution_count": 119,
      "outputs": [
        {
          "output_type": "stream",
          "name": "stdout",
          "text": [
            "\n",
            "/*\n",
            " * test include header file\n",
            " */\n",
            "int VALUE = 2;\n"
          ]
        }
      ]
    },
    {
      "cell_type": "code",
      "source": [
        "from loial.builders.cc_builder import cc_build\n",
        "\n",
        "@cc_build('''\n",
        "#include \"values.h\"\n",
        "\n",
        "int inc1(int a) {\n",
        "    return a * VALUE;\n",
        "}\n",
        "''', CC_Config(includes=['header']))\n",
        "def inc1(a):\n",
        "    return a\n",
        "\n",
        "assert inc1(3) == 6"
      ],
      "metadata": {
        "id": "j3TxJvCFQ2z3"
      },
      "execution_count": 124,
      "outputs": []
    },
    {
      "cell_type": "markdown",
      "source": [
        "Multiple C source files may be included in the compilation if defined in the config."
      ],
      "metadata": {
        "id": "9QLszKXsUMth"
      }
    },
    {
      "cell_type": "code",
      "source": [
        "from loial.builders.cc_builder import cc_build\n",
        "\n",
        "src_file2 = CC_Config().create_cache_path('src2.c')\n",
        "with open(src_file2, 'w') as out:\n",
        "    out.write('''\n",
        "              int ten(int a);\n",
        "\n",
        "              int ten(int a)\n",
        "              {\n",
        "                  return a * 10;\n",
        "              }\n",
        "              ''')\n",
        "\n",
        "src_file3 = CC_Config().create_cache_path('src3.c')\n",
        "with open(src_file3, 'w') as out:\n",
        "    out.write('''\n",
        "              int dub(int a);\n",
        "\n",
        "              int dub(int a)\n",
        "              {\n",
        "                  return a * 2;\n",
        "              }\n",
        "              ''')\n",
        "\n",
        "@cc_build('''\n",
        "int ten(int a);\n",
        "int dub(int a);\n",
        "\n",
        "int src1(int a) {\n",
        "    return dub(ten(a));\n",
        "}\n",
        "''', CC_Config(src_files=[src_file2, src_file3]))\n",
        "def src1(a):\n",
        "    return a\n",
        "\n",
        "assert src1(3) == 60"
      ],
      "metadata": {
        "id": "ZoSObqXJUR0c"
      },
      "execution_count": 125,
      "outputs": []
    },
    {
      "cell_type": "markdown",
      "source": [
        "They can even be used to replace the code definition."
      ],
      "metadata": {
        "id": "qIktWg9WUgXD"
      }
    },
    {
      "cell_type": "code",
      "source": [
        "from loial.builders.cc_builder import cc_build, CC_Config\n",
        "\n",
        "src_file1 = CC_Config().create_cache_path('src1.c')\n",
        "with open(src_file1, 'w') as out:\n",
        "    out.write('''\n",
        "                int ten(int a);\n",
        "                int dub(int a);\n",
        "\n",
        "                int src1(int a) {\n",
        "                    return dub(ten(a));\n",
        "                }\n",
        "              ''')\n",
        "\n",
        "src_file2 = CC_Config().create_cache_path('src2.c')\n",
        "with open(src_file2, 'w') as out:\n",
        "    out.write('''\n",
        "              int ten(int a);\n",
        "\n",
        "              int ten(int a)\n",
        "              {\n",
        "                  return a * 10;\n",
        "              }\n",
        "              ''')\n",
        "\n",
        "src_file3 = CC_Config().create_cache_path('src3.c')\n",
        "with open(src_file3, 'w') as out:\n",
        "    out.write('''\n",
        "              int dub(int a);\n",
        "\n",
        "              int dub(int a)\n",
        "              {\n",
        "                  return a * 2;\n",
        "              }\n",
        "              ''')\n",
        "\n",
        "@cc_build(config=CC_Config(src_files=[src_file1, src_file2, src_file3]))\n",
        "def src1(a):\n",
        "    return a\n",
        "\n",
        "assert src1(3) == 60"
      ],
      "metadata": {
        "id": "iDd1XYNOUnJG"
      },
      "execution_count": 126,
      "outputs": []
    },
    {
      "cell_type": "markdown",
      "source": [
        "Object files may also be included in the source list.\n",
        "\n",
        "Using the `CC_Builder.cc_compile_obj` helper method"
      ],
      "metadata": {
        "id": "95WqlWDqVVH7"
      }
    },
    {
      "cell_type": "code",
      "source": [],
      "metadata": {
        "id": "uHqXYKZrWTHk"
      },
      "execution_count": null,
      "outputs": []
    },
    {
      "cell_type": "code",
      "source": [
        "from loial.builders.cc_builder import cc_build, CC_Config, CC_Builder\n",
        "\n",
        "\n",
        "src_file1 = CC_Config().create_cache_path('src1.c')\n",
        "with open(src_file1, 'w') as out:\n",
        "    out.write('''\n",
        "                int ten(int a);\n",
        "                int dub(int a);\n",
        "\n",
        "                int src1(int a) {\n",
        "                    return dub(ten(a));\n",
        "                }\n",
        "              ''')\n",
        "\n",
        "src_file2 = CC_Config().create_cache_path('src2.c')\n",
        "with open(src_file2, 'w') as out:\n",
        "    out.write('''\n",
        "              int ten(int a);\n",
        "\n",
        "              int ten(int a)\n",
        "              {\n",
        "                  return a * 10;\n",
        "              }\n",
        "              ''')\n",
        "\n",
        "obj_file = CC_Builder.cc_compile_obj('''\n",
        "                  int dub(int a);\n",
        "\n",
        "                  int dub(int a)\n",
        "                  {\n",
        "                      return a * 2;\n",
        "                  }\n",
        "                  ''', CC_Config().create_cache_path('src3.o'))\n",
        "\n",
        "@cc_build(config=CC_Config(src_files=[obj_file, src_file1, src_file2]))\n",
        "def src1(a):\n",
        "    return a\n",
        "\n",
        "assert src1(3) == 60"
      ],
      "metadata": {
        "id": "NrudH4pFVYg8"
      },
      "execution_count": 129,
      "outputs": []
    },
    {
      "cell_type": "markdown",
      "source": [
        "Static libraries may be linked in, and can be built with the helper method `CC_Builder.archive`."
      ],
      "metadata": {
        "id": "WC4fM0YhWNeV"
      }
    },
    {
      "cell_type": "code",
      "source": [
        "from loial.builders.cc_builder import cc_build, CC_Config, CC_Builder\n",
        "\n",
        "obj_file = CC_Builder.cc_compile_obj('''\n",
        "              int dub(int a);\n",
        "\n",
        "              int dub(int a)\n",
        "              {\n",
        "                  return a * 2;\n",
        "              }\n",
        "              ''', CC_Config().create_cache_path('srclib.o'))\n",
        "\n",
        "lib_file = CC_Builder.archive(\n",
        "    CC_Config().create_cache_path('srclib.a'), [obj_file])\n",
        "\n",
        "@cc_build('''\n",
        "        int dub(int a);\n",
        "\n",
        "                int src1(int a) {\n",
        "                    return dub(a*10);\n",
        "                }\n",
        "              ''', CC_Config(static_libs=[lib_file]))\n",
        "def src1(a):\n",
        "    return a\n",
        "\n",
        "assert src1(3) == 60"
      ],
      "metadata": {
        "id": "KU2uxPgWWSCN"
      },
      "execution_count": 130,
      "outputs": []
    },
    {
      "cell_type": "markdown",
      "source": [
        "Shared libraries may be included from the library path using their short name."
      ],
      "metadata": {
        "id": "Hn7gAF0xWifH"
      }
    },
    {
      "cell_type": "code",
      "source": [
        "from loial.builders.cc_builder import cc_build\n",
        "\n",
        "@cc_build('''\n",
        "        int work(int a) {\n",
        "            return a-2;\n",
        "        }\n",
        "        ''', CC_Config(shared_libs=['stdc++']))\n",
        "def work(a):\n",
        "    return a+1\n",
        "\n",
        "assert work(3) == 1"
      ],
      "metadata": {
        "id": "onU8-yVzWpTd"
      },
      "execution_count": 131,
      "outputs": []
    },
    {
      "cell_type": "markdown",
      "source": [
        "Callback functions may be passed to the C code using an explicit definition."
      ],
      "metadata": {
        "id": "y4xKVRgeWzIP"
      }
    },
    {
      "cell_type": "code",
      "source": [
        "from loial.builders.cc_builder import cc_build\n",
        "\n",
        "@ctypes.CFUNCTYPE(ctypes.c_float, ctypes.c_int, ctypes.c_int)\n",
        "def cb(a, b):\n",
        "    return (a+b)*10.0\n",
        "\n",
        "@cc_build('''\n",
        "        float cbfun(int a, int b, float (*cb)(int, int)) {\n",
        "            return cb(a,b);\n",
        "        }\n",
        "        ''')\n",
        "def cbfun(a, b, cb)->ctypes.c_float:\n",
        "    return a-b\n",
        "\n",
        "assert cbfun(1, 1, cb) == 20"
      ],
      "metadata": {
        "id": "Wdo7cwYXW34X"
      },
      "execution_count": 132,
      "outputs": []
    },
    {
      "cell_type": "markdown",
      "source": [
        "The callback may be used implicitly if the paramter types are defined as hints."
      ],
      "metadata": {
        "id": "SUn0X8_aXBgS"
      }
    },
    {
      "cell_type": "code",
      "source": [
        "import ctypes\n",
        "from loial.builders.cc_builder import cc_build\n",
        "\n",
        "def cb(a: ctypes.c_int, b: ctypes.c_int) ->ctypes.c_float:\n",
        "    return (a+b)*10.0\n",
        "\n",
        "@cc_build('''\n",
        "        float cbfun(int a, int b, float (*cb)(int, int)) {\n",
        "            return cb(a,b);\n",
        "        }\n",
        "        ''')\n",
        "def cbfun(a, b, cb) -> ctypes.c_float:\n",
        "    return a-b\n",
        "\n",
        "assert cbfun(1, 1, cb) == 20"
      ],
      "metadata": {
        "id": "dAm-MFntXNQc"
      },
      "execution_count": 133,
      "outputs": []
    }
  ]
}